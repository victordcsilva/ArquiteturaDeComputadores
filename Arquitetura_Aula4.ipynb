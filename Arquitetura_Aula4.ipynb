{
 "cells": [
  {
   "cell_type": "markdown",
   "metadata": {},
   "source": [
    "# Periféricos\n",
    "\n",
    "- Identificar quais são os tipos de dispositivos periféricos.\n",
    "- Definir quais são suas funções.\n",
    "- Estabelecer a relação dos periféricos com processadores e memórias, de maneira a comporem sistemas computacionais completos.\n",
    "\n",
    "### Dispositivos Periféricos: Quem são Eles?\n",
    "\n",
    "Ao longo do tempo, diferentes mecanismos foram criados para possibilitar a interação de humanos com máquinas e de máquinas com outras máquinas, visando transmitir e tornar as informações disponíveis. Com certeza você já está habituado a interagir com computadores, de modo que teclados e monitores lhe parecem perfeitamente naturais. Entretanto, uma série de operações é realizada por esses dispositivos para que os nossos algoritmos possam receber informações e para que possam também nos apresentar os resultados de suas execuções.\n",
    "\n",
    "Antes de tudo, é importante que você saiba que de maneira geral um sistema computacional completo se caracteriza por possuir processador + memórias + dispositivos periféricos.\n",
    "\n",
    "Os dispositivos periféricos servem para que as informações possam ser enviadas a sistemas computacionais e para que as informações produzidas automaticamente possam ser transmitidas aos humanos. Considerando o ponto de vista do processador para a percepção da informação, os dispositivos periféricos são classificados quanto ao tipo como de entrada, saída ou entrada e saída (E/S). O próprio nome periférico se refere à periferia do processador.\n",
    "\n",
    "Os periféricos de entrada são periféricos que fornecem informações ao computador. Os tipicamente encontrados em sistemas computacionais são os que listamos a seguir.\n",
    "\n",
    "- Mouse;\n",
    "- Teclado;\n",
    "- Microfone para computador;\n",
    "- Monitor sensível ao toque (touch screen).\n",
    "\n",
    "Já os dispositivos de saída são os periféricos que recebem informações do computador. Alguns exemplos são:\n",
    "- Monitor;\n",
    "- Impressora;\n",
    "- Caixa de som para computador.\n",
    "\n",
    "Os dispositivos de E/S são aqueles que mantêm a comunicação com o processador e a memória. Por exemplo:\n",
    "\n",
    "- Discos: disco rígido (HD ou hard disk); discos ópticos (CD, DVD, Blu-ray) \n",
    "- Placas de rede \n",
    "- Barramentos de comunicação: USB, FireWire, serial, paralelo, infravermelho (infrared) \n",
    "\n",
    "![](https://i.ibb.co/162b66k/image.png)\n",
    "\n",
    "É importante ressaltar que cada dispositivo é implementado através de sua estrutura física e que existem controladores de seu funcionamento.\n",
    "\n",
    "A estrutura física permite que o sistema computacional se relacione com o mundo externo. Por exemplo, monitores possuem uma estrutura de caixa, com diferentes formatos, telas que podem ser de CRT, LCD ou LED; o teclado possui um conjunto de teclas padronizados em função da língua que representam e assim por diante.\n",
    "\n",
    "O controlador é o hardware responsável por permitir que o periférico consiga se comunicar com o computador. É possível imaginar o controlador como um tradutor, responsável por traduzir as informações entre duas pessoas de idiomas diferentes. Nesta analogia, uma das pessoas é o computador e a outra é o periférico. Assim, é necessário que o controlador entenda tanto as informações do computador quanto as do periférico. O Driver (com r no final) é o software responsável por permitir a comunicação entre controlador e periférico. Como o controlador já consegue se comunicar com o computador, toda a comunicação pode então ser realizada. Existe ainda o Drive (sem r no final) que nada mais é que o dispositivo físico em si, ou seja, o hardware. O Pendrive é um exemplo típico de drive. O que a Figura abaixo mostra a instalação de um novo driver devido a conexão de um drive no computador.\n",
    "\n",
    "![](https://i.ibb.co/kQDm10K/image.png)\n",
    "\n"
   ]
  },
  {
   "cell_type": "markdown",
   "metadata": {},
   "source": [
    "### Comunicação dos Dispositivos Periféricos com o Processador/Memória\n",
    "\n",
    "Neste momento, é importante que você lembre que os algoritmos são executados em processadores e que ficam armazenados nas memórias. No entanto, os sistemas computacionais necessitam que os seres humanos possam enviar informações para os algoritmos; isto pode ser conseguido através da colocação de dados na memória. Por exemplo, se você quiser calcular a raiz quadrada de um número inteiro, é necessário que você informe esse número ao algoritmo que vai realizar o cálculo. De maneira semelhante, quando o algoritmo precisar mostrar o resultado de uma operação (o resultado do cálculo da raiz quadrada), ele precisa colocá-lo na memória, para então, ser mostrado em um monitor. Você vai ver agora como isso acontece.\n",
    "\n",
    "A comunicação dos dispositivos periféricos com o processador/memória ocorre principalmente de três maneiras. Vejamos cada uma delas.\n",
    "\n",
    "- **Pooling**\n",
    "    - O processador fica monitorando os periféricos a cada “x” tempo, a fim de verificar se o dispositivo periférico necessita se comunicar; em caso afirmativo, uma comunicação é estabelecida, caso contrário, o processador simplesmente segue executando os algoritmos. É importante perceber que a cada um desses acessos, o processador precisa parar a execução do algoritmo naquele momento para executar um algoritmo de comunicação com o periférico. Se o processador se comunica com um periférico que não deseja se comunicar, houve uma perda de desempenho no sistema computacional devido ao desperdício de tempo do processador.\n",
    "    \n",
    "- **Sistema de interrupções**\n",
    "    - A iniciativa da comunicação parte do periférico e não do processador: toda vez que o periférico precisa se comunicar, ele envia ao processador um sinal específico, o qual interrompe o processador; isso quer dizer que o processador para de executar o algoritmo que está executando no momento para atender a interrupção: executar a comunicação com o periférico. Com isso, o processador somente precisa parar de executar as suas operações quando necessário (quando algum periférico precisa comunicar) e não ficar monitorando os periféricos.\n",
    "    ![](https://i.ibb.co/0KHgf9Q/image.png)\n",
    "    \n",
    "    \n",
    "    \n",
    "    \n",
    "- **Acesso direto à memória (DMA: direct memory access)**\n",
    "\n",
    "    - Note, no entanto, que as comunicações ocorrem no nível da palavra binária do processador, ou seja, uma interrupção é gerada para cada palavra que o periférico quer comunicar (leitura/escrita) com a memória. Isso pode ser um problema para dispositivos que comunicam muitos dados e a taxas elevadas como, por exemplo, discos rígidos e memórias de vídeo. Para estes dispositivos outra alternativa foi criada: acesso direto à memória (DMA: direct memory access).\n",
    "    ![](https://i.ibb.co/9gGHxjW/image.png)\n",
    "    \n",
    "    - Na técnica do DMA, quando uma interrupção é gerada, o periférico informa ao processador a quantidade de dados que irá comunicar; o processador então delega a tarefa da comunicação ao controlador do DMA. A partir desse momento, o processador continua a executar o algoritmo que executava antes da interrupção e o DMA fica responsável por toda comunicação entre o periférico e a memória. Somente ao final da comunicação (independente do tamanho desta) o controlador DMA interrompe novamente o processador para indicar o final da comunicação e liberar o barramento. \n",
    "    \n",
    "    - Assim, independentemente do tamanho da comunicação, o processador é interrompido somente duas vezes.\n",
    "    \n",
    "Neste momento, chegamos a um ponto chave dentro do nosso curso: conseguimos entender quais são os componentes de arquiteturas que compõem qualquer sistema computacional. Podemos ver como funcionam e interagem processadores, memórias e dispositivos periféricos. O que muda em termos de arquitetura de um sistema para outro é justamente qual o tipo de cada um desses componentes.\n",
    "\n",
    "Fazendo uma revisão de tudo o que estudamos até esta aula, é possível você determinar o funcionamento dos computadores, bem como comparar diferentes possibilidades de implementação. Vamos ver se você compreendeu?\n",
    "\n",
    "Nesta aula, você estudou os tipos de dispositivos periféricos e o seu relacionamento com processadores e memórias, de modo a compor sistemas computacionais completos. A partir deste momento, você consegue entender quais são e por que são importantes os componentes que formam qualquer sistema computacional. Isso significa dizer que, a partir de agora, quando você for programar um computador, entenderá como os dados são fornecidos à máquina, como são processados e como os algoritmos nos mostram os resultados das operações que executam.\n"
   ]
  }
 ],
 "metadata": {
  "kernelspec": {
   "display_name": "Python 3",
   "language": "python",
   "name": "python3"
  },
  "language_info": {
   "codemirror_mode": {
    "name": "ipython",
    "version": 3
   },
   "file_extension": ".py",
   "mimetype": "text/x-python",
   "name": "python",
   "nbconvert_exporter": "python",
   "pygments_lexer": "ipython3",
   "version": "3.7.6"
  }
 },
 "nbformat": 4,
 "nbformat_minor": 4
}
