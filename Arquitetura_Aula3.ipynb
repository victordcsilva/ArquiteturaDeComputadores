{
 "cells": [
  {
   "cell_type": "markdown",
   "metadata": {},
   "source": [
    "# Memórias\n",
    "\n",
    "Ao final desta aula, você deverá ser capaz de:\n",
    "\n",
    "- Identificar a importância das memórias para que algoritmos possam ser executados em sistemas computacionais e em processadores.\n",
    "- Diferenciar os tipos de memória.\n",
    "- Classificar as memórias quanto ao seu tamanho e funcionamento.\n",
    "\n",
    "### O que são Memórias?\n",
    "\n",
    "Como visto em aula anterior, a organização interna de sistemas computacionais está fortemente baseada na possibilidade de operações e dados dos algoritmos serem armazenados em circuitos com capacidade de reter as informações por tempo indeterminado: as memórias. Um circuito de memória pode ser entendido como aquele circuito capaz de reter informações. A importância e a necessidade de os sistemas computacionais possuírem memórias estão no fato de as informações e operações a ser processadas necessitam de armazenamento. Isso ocorre devido à natureza dos circuitos eletrônicos que compõem esses sistemas: um circuito pode ser entendido como uma caixa preta que possui alguma funcionalidade, entradas e saídas.\n",
    "\n",
    "### Funcionamento\n",
    "\n",
    "O funcionamento das memórias ocorre pela leitura das entradas, as quais são processadas, e uma ou mais saídas são geradas. As entradas são os operandos, o processamento são as operações (realizadas pela ULA do processador) e as saídas são os operandos destino. No entanto, os circuitos conseguem apenas processar (operar sobre) as informações, mas não retê-las ou armazená-las para posterior processamento. Ao estudarmos a execução de algoritmos, fica bastante evidente que muitas variáveis são reutilizadas que irá identificar tão somente aquela posição de memória. Então, para que não se percam, é necessário que sejam armazenadas. O mesmo acontece com as instruções: observe atentamente um algoritmo e verá que muitas instruções aparecem mais de uma vez ao longo do código.\n",
    "\n",
    "Memórias podem ser pensadas como um vetor, onde em cada posição dele as informações são armazenadas. No caso de sistemas computacionais, precisamos determinar qual o tamanho (em bits) de cada uma das posições, ou seja, qual a quantidade de bits que podem ser armazenados em cada posição. Além disso, assim como em vetores, cada posição necessita ser determinada através de um endereço único, que é o endereço que irá identificar aquela e somente aquela posição. Dessa forma, é possível que cada posição seja acessada sem ambiguidade para ser modificada.\n",
    "\n",
    "![](https://i.ibb.co/HNh9TzH/image.png)\n",
    "\n",
    "Naturalmente, as operações que são realizadas em memórias se restringem à leitura e escrita, uma vez que nenhuma operação é executada sobre informações armazenadas em memórias. Pode-se pensar, então, em memórias como estruturas auxiliares, que servem para que dados e operações permaneçam dentro do sistema pelo tempo necessário para serem processados e (possivelmente) reprocessados.\n",
    "\n",
    "Devido à necessidade de armazenamento, não há como se construir um sistema computacional sem a presença de memórias: na memória de dados são armazenadas todas as variáveis que os algoritmos executam e na memória de instruções são armazenadas todas as instruções dos algoritmos. Veja também que é nessa memória que os processadores buscam as instruções que executam.\n",
    "\n",
    "### Tipos de Memórias\n",
    "\n",
    "As memórias podem ser classificadas quanto ao seu tipo em relação à característica de volatilidade que possuem. Diz-se que uma memória é:\n",
    "\n",
    "**Volátil:** \n",
    "- Quando seu conteúdo é perdido ou apagado assim que a energia é cortada. Nesse caso, a memória perde a sua função e para de funcionar.\n",
    "\n",
    "**Não volátil:** \n",
    "- Quando são capazes de continuar memorizando, mesmo sem a presença da energia (quando o sistema é desligado). Essas memórias nunca perdem o seu conteúdo.\n",
    "\n",
    "As memórias RAM (Random Access Memory: memórias de acesso aleatório) são exemplos de memórias voláteis, enquanto que as memórias ROM (ReadOnly Memories: memórias apenas de leitura) são exemplos de não voláteis. O fato das memórias ROM permitirem apenas a leitura significa que o seu conteúdo é gravado apenas uma vez, quando a memória é fabricada e, após isso, somente leituras podem ser realizadas. No entanto, essa definição está de acordo com uma tecnologia específica de fabricação de memórias. À medida que a tecnologia foi evoluindo, diferentes tipos de memórias não voláteis foram criadas, as quais permitem também a escrita. Exemplos dessas memórias são:\n",
    "\n",
    "- **PROM (Programmable ROM – ROM programável):** \n",
    "    - Programável,nesse caso, quer dizer que pode ter o seu conteúdo reescrito.\n",
    "\n",
    "- **EEPROM (Electrically Erasable Programmable Read-Only Memory–PROM apagável eletricamente\")**\n",
    "\n",
    "- **Flash**\n",
    "    - As quais compõem os atuais pendrives e tocadores de MP3. As memórias Flash são do tipo EEPROM.\n",
    "\n",
    "Você pode se perguntar neste momento: Se existem memórias não voláteis, porque utilizar as voláteis, correndo o risco de se perder informações em caso de queda de energia?\n",
    "\n",
    "A resposta está no desempenho: memórias voláteis conseguem (devido à sua natureza física) ser mais rápidas. Como na maioria dos sistemas computacionais, desempenho é fator crucial, opta-se pela utilização do máximo possível de memórias mais rápidas (a próxima seção exemplifica isso também). Além do mais, de nada adiantaria termos processadores extremamente velozes se eles precisam esperar muito para acessar a memória na busca de instruções e operandos.\n",
    "\n",
    "### Classificação quanto ao Tamanho e Funcionalidade\n",
    "\n",
    "Devido à tecnologia de fabricação, as memórias possuem diferentes preços (normalmente calculados em US$/bits) e desempenhos: quanto mais cara é a memória, mais rápida ela é. Como normalmente o desempenho é fator crucial em sistemas computacionais, estes implementam uma hierarquia de memória, de modo a aproveitar ao máximo o desempenho oferecido por elas.\n",
    "\n",
    "A hierarquia é necessária porque, devido aos custos, memórias mais caras são menos usadas na construção dos sistemas computacionais. A hierarquia é implementada sob o ponto de vista do processador e determina que este sempre acesse primeiro a memória mais rápida.Se a instrução ou o dado que o processador precisa acessar não se encontra nessa memória, um segundo acesso é feito em uma memória mais lenta e assim sucessivamente."
   ]
  },
  {
   "cell_type": "markdown",
   "metadata": {},
   "source": [
    "A Figura abaixo ilustra uma hierarquia típica de memória encontrada na maioria dos sistemas computacionais, exemplificando custo X velocidade.\n",
    "\n",
    "![](https://i.ibb.co/T4jnPL0/image.png)\n",
    "\n",
    "### Classificação quanto ao Tamanho e Funcionalidade\n",
    "\n",
    "Os registradores encontrados dentro dos processadores, como vimos em aula anterior, são as memórias mais caras e de pequena capacidade, entretanto são as memórias mais rápidas, por isso se encontram no topo da hierarquia.\n",
    "\n",
    "Em seguida, as memórias conhecidas como cache também são rápidas e de pequena capacidade de armazenamento em um sistema, mas são menos rápidas e possuem maior armazento comparada aos registradores. Observe que essas memórias são voláteis. Alguns sistemas implementam mais de uma memória cache na hierarquia de memória, criando níveis de cache, limitados a 3. Quando mais de uma dessas memórias é utilizada, a cache de nível 2 (L2; Level 2) é maior que a de nível 1 (cache L1) e menor que a de nível 3 (cache L3). Naturalmente, a cache L1 é a mais cara e mais rápida e a L3 a menor e mais barata dentre as três.\n",
    "\n",
    "Logo após a memória cache na hierarquia de memória (Figura 2), vem a memória principal ou memória RAM.Esta é uma memória volátil com tamanho maior e menor custo em relação às memórias cache e aos registradores. Em seguida, temos as memórias secundárias. O disco rígido, também conhecido como HD (do inglês Hard Disk), é considerado uma memórias secundária.\n",
    "\n",
    "Na Figura abaixo, podemos observar um exemplo de como ocorre a comunicação da memória com os outros elementos que representam um computador. Já vimos em aula anterior como funciona o processador; Os periféricos serão estudados em aula futura.\n",
    "\n",
    "![](https://i.ibb.co/RDVd3s4/image.png)\n",
    "\n",
    "Nesta aula, você estudou diferentes tipos de memórias, como elas são classificadas e como são conectadas aos processadores para que algoritmos possam ser executados de maneira correta.\n"
   ]
  }
 ],
 "metadata": {
  "kernelspec": {
   "display_name": "Python 3",
   "language": "python",
   "name": "python3"
  },
  "language_info": {
   "codemirror_mode": {
    "name": "ipython",
    "version": 3
   },
   "file_extension": ".py",
   "mimetype": "text/x-python",
   "name": "python",
   "nbconvert_exporter": "python",
   "pygments_lexer": "ipython3",
   "version": "3.7.6"
  }
 },
 "nbformat": 4,
 "nbformat_minor": 4
}
